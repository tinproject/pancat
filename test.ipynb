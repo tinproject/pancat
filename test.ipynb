{
 "metadata": {
  "name": ""
 },
 "nbformat": 3,
 "nbformat_minor": 0,
 "worksheets": [
  {
   "cells": [
    {
     "cell_type": "markdown",
     "metadata": {},
     "source": [
      "# Cuaderno de prueba y demostraci\u00f3n.\n",
      "\n",
      "Peque\u00f1o notebook para prueba y demostraci\u00f3n.\n",
      "\n",
      "## Ficheros de datos\n",
      "\n",
      "P\u00e1gina de la web de la Direcci\u00f3n General del Catastro con las especificaciones de los ficheros .cat:\n",
      "\n",
      "- http://www.catastro.minhap.es/ayuda/lang/castellano/ayuda_descarga_cat.htm\n",
      "\n",
      "Web de acceso a la descarga de datos:\n",
      "\n",
      "- Apartado 'Descarga de productos catastrales con certificado digital: Datos catastrales' en http://www.sedecatastro.gob.es/\n"
     ]
    },
    {
     "cell_type": "markdown",
     "metadata": {},
     "source": [
      "## Utilizaci\u00f3n\n",
      "\n",
      "Importamos la librer\u00eda. Ha de colocarse sobre el directorio donde estemos trabajando."
     ]
    },
    {
     "cell_type": "code",
     "collapsed": false,
     "input": [
      "import pancat as pc"
     ],
     "language": "python",
     "metadata": {},
     "outputs": []
    },
    {
     "cell_type": "markdown",
     "metadata": {},
     "source": [
      "Datos. Nombre del fichero de datos a procesar. Tipo del registro seg\u00fan la especicaci\u00f3n, p.ej.: '11' (parcelas catastrales)"
     ]
    },
    {
     "cell_type": "code",
     "collapsed": false,
     "input": [
      "cat_file = './data/40_900_U_2013-05-24.CAT.gz'\n",
      "reg_id = '11'"
     ],
     "language": "python",
     "metadata": {},
     "outputs": []
    },
    {
     "cell_type": "markdown",
     "metadata": {},
     "source": [
      "Carga de datos en una DataFrame de Pandas"
     ]
    },
    {
     "cell_type": "code",
     "collapsed": true,
     "input": [
      "df = pc.read_cat_as_dataframe(cat_file, reg_id)\n",
      "df.head()"
     ],
     "language": "python",
     "metadata": {},
     "outputs": []
    },
    {
     "cell_type": "markdown",
     "metadata": {},
     "source": [
      "Carga de datos en un ndarray de Numpy"
     ]
    },
    {
     "cell_type": "code",
     "collapsed": false,
     "input": [
      "nda = pc.read_cat_as_ndframe(cat_file, reg_id)\n",
      "nda.view()\n"
     ],
     "language": "python",
     "metadata": {},
     "outputs": []
    },
    {
     "cell_type": "code",
     "collapsed": false,
     "input": [],
     "language": "python",
     "metadata": {},
     "outputs": []
    }
   ],
   "metadata": {}
  }
 ]
}